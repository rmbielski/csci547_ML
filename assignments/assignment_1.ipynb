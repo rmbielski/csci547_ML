{
  "cells": [
    {
      "cell_type": "markdown",
      "metadata": {
        "id": "view-in-github",
        "colab_type": "text"
      },
      "source": [
        "<a href=\"https://colab.research.google.com/github/rmbielski/csci547_ML/blob/main/assignments/assignment_1.ipynb\" target=\"_parent\"><img src=\"https://colab.research.google.com/assets/colab-badge.svg\" alt=\"Open In Colab\"/></a>"
      ]
    },
    {
      "cell_type": "markdown",
      "metadata": {
        "id": "INkAgt-hTY_-"
      },
      "source": [
        "# Assignment 1 -  & Computational Programming"
      ]
    },
    {
      "cell_type": "markdown",
      "metadata": {
        "id": "FTEAadCkTZAA"
      },
      "source": [
        "## *RUSTIN MONTGOMERY BIELSKI-PIMLOTT*\n",
        "Netid: 790908633\n",
        "\n",
        "\n",
        "\n",
        "Note: this assignment falls under collaboration Mode 2: Individual Assignment – Collaboration Permitted. Please refer to the syllabus on Canvas for additional information."
      ]
    },
    {
      "cell_type": "markdown",
      "metadata": {
        "id": "mzkmvTNfTZAA"
      },
      "source": [
        "Instructions for all assignments can be found [here](https://github.com/kylebradbury/ids705/blob/master/assignments/_Assignment%20Instructions.ipynb), and is also linked to from the [course syllabus](https://kylebradbury.github.io/ids705/index.html).\n",
        "\n",
        "Total points in the assignment add up to 90; an additional 10 points are allocated to presentation quality."
      ]
    },
    {
      "cell_type": "markdown",
      "metadata": {
        "id": "IAPvzGDXTZAA"
      },
      "source": [
        "#  Learning Objectives\n",
        "The purpose of this assignment is to provide a refresher on fundamental concepts that we will use throughout this course, and provide an opportunity to develop skills in any of the related skills that may be unfamiliar to you. Through the course of completing this assignment, you will...\n",
        "- Practice numerical programming by loading and filtering data, plotting data, vectorizing operations, profiling code speed, and debugging and optimizing performance. You will also practice computing probabilities based on simulation.\n",
        "- Develop or refresh your knowledge of Git version control, which will be a core tool used in the final project of this course\n",
        "- Apply your skills altogether through an exploratory data analysis to practice data cleaning, data manipulation, interpretation, and communication\n",
        "\n",
        "We will build on these concepts throughout the course, so use this assignment as a catalyst to deepen your knowledge and seek help with anything that is unfamiliar.\n"
      ]
    },
    {
      "cell_type": "markdown",
      "metadata": {
        "id": "ntZoXcmBTZAB"
      },
      "source": [
        "*Note: for all assignments, write out all equations and math using markdown and [LaTeX](https://tobi.oetiker.ch/lshort/lshort.pdf). For this assignment show ALL math work*"
      ]
    },
    {
      "cell_type": "markdown",
      "metadata": {
        "id": "8kS629PqTZAD"
      },
      "source": [
        "**ANSWER**"
      ]
    },
    {
      "cell_type": "markdown",
      "metadata": {
        "id": "zJo_2az4TZAD"
      },
      "source": [
        "# Numerical Programming"
      ]
    },
    {
      "cell_type": "markdown",
      "metadata": {
        "id": "QeMy78fGTZAD"
      },
      "source": [
        "## 1\n",
        "**[30 points]** Loading data and gathering insights from a real dataset\n",
        "\n",
        "In data science, we often need to have a sense of the idiosyncrasies of the data, how they relate to the questions we are trying to answer, and to use that information to help us to determine what approach we may need to apply to achieve our goal. This exercise provides practice in exploring a dataset and answering question that might arise from applications related to the data.\n",
        "\n",
        "\n",
        "**Data**. The data for this problem can be found in the `data` subfolder in the `assignments` folder on [github](https://github.com/lucywowen/csci591_CCN). The filename is `stroke.csv`.\n",
        "\n",
        "A stroke occurs when the blood flow to a part of the brain is reduced or restricted. Due to this brain cells start to die, in that part of the brain, at a very fast rate due to a lack of oxygen and nutrients. There are two types of brain strokes: (a) Ischemic stroke and (b) Haemorrhagic stroke of which ischemic stroke is more likely to occur. The rupture or blockage prevents blood and oxygen from reaching the brain’s tissues.\n",
        " Here we have used 8 input parameters like gender, age, various diseases, and smoking status in this dataset on brain stroke detection from Kaggle.\n",
        " The following information is provided about the patient:\n",
        "\n",
        "    \n",
        "|field    |description|\n",
        "|:-----   |:-----|\n",
        "|id       |unique identifier|\n",
        "|gender   |'Male', 'Female', or 'Other'|\n",
        "|age   |age of patient|\n",
        "|hypertension    |0 if patient doesn't have hypertension; 1 if patient has hypertension|\n",
        "|heart_disease      |0 if patient doesn't have heart disease; 1 if patient has heart disease|\n",
        "|ever_married     |'No', 'Yes'|\n",
        "|work_type |'children', 'Govt_jov', 'Never_worked', 'Private', 'Self-employed' |\n",
        "|Residence_type   |'Rural', 'Urban' |\n",
        "|avg_glucose_level |average glucose level of the patient|\n",
        "|bmi |body mass index of the patient|\n",
        "|smoking_status |'formerly smoked', 'never smoked', 'smokes', 'Unknown'|\n",
        "|stroke |0 if patient has not had a stroke; 1 if patient has had a stroke|\n",
        "\n",
        "\n",
        "**Your objective**. For this dataset, your goal is answer the following questions about these patients:\n",
        "\n",
        "**(a)** Calculate the bmi mean and standard deviation for patients who have had a stroke. Calculate the bmi mean and standard deviation for patients who have had NOT had stroke.\n",
        "\n",
        "**(b)** Assess the NA values in the data. Count the rows that have stroke as 0 and 1 respectively when bmi is null.\n",
        "\n",
        "**(c)** Recalculate the bmi mean and standard deviation for patients who have had and have not had a stroke.  Plot this data as a box plot.\n",
        "\n",
        "**(d)** Plot the same boxplot as above, but with the raw data plotted.  What additional information does this raw data provide? Briefly explain the differences between the plots shown in c and d.\n",
        "\n",
        "**(e)** Plot a histogram of age distributions of the patients that have had strokes and patients that have not had strokes.  \n",
        "\n",
        "**(f)** Plot a density plot of age distributions of the patients that have had strokes and patients that have not had strokes.  How is this plot different from the histogram plotted in e?  \n",
        "\n",
        "**(g)** Plot a density plot of age distributions of the patients that have had strokes and patients that have not had strokes, by gender.  \n",
        "\n",
        "**(h)** Plot a density plot of age distributions of the patients that have had strokes and patients that have not had strokes, by gender 'Male' and 'Female'. What changes with this plot relative to what you plotted for g?  "
      ]
    },
    {
      "cell_type": "markdown",
      "metadata": {
        "id": "NFX1SSqATZAD"
      },
      "source": [
        "**ANSWER**"
      ]
    },
    {
      "cell_type": "markdown",
      "metadata": {
        "id": "uENxx9_VTZAD"
      },
      "source": [
        "# Version Control via Git"
      ]
    },
    {
      "cell_type": "markdown",
      "metadata": {
        "id": "shzvGVzgTZAE"
      },
      "source": [
        "## 2\n",
        "**[10 points]** Git is efficient for collaboration, and expectation in industry, and one of the best ways to share results in academia. You can even use some Git repositories (e.g. Github) as hosts for website, such as with the [course website](https://kylebradbury.github.io/ids705/index.html). As a data scientist with experience in machine learning, Git is expected. We will interact with Git repositories (a.k.a. repos) throughout this course, and your project will require the use of git repos for collaboration.\n",
        "\n",
        "Complete the [Atlassian Git tutorial](https://www.atlassian.com/git/tutorials/what-is-version-control), specifically the following listed sections. Try each concept that's presented. For this tutorial, instead of using BitBucket as your remote repository host, you may use your preferred platform such as [Github](https://github.com/) or [Duke's Gitlab](https://gitlab.oit.duke.edu/users/sign_in).\n",
        "1. [What is version control](https://www.atlassian.com/git/tutorials/what-is-version-control)\n",
        "2. [What is Git](https://www.atlassian.com/git/tutorials/what-is-git)\n",
        "3. [Install Git](https://www.atlassian.com/git/tutorials/install-git)\n",
        "4. [Setting up a repository](https://www.atlassian.com/git/tutorials/install-git)\n",
        "5. [Saving changes](https://www.atlassian.com/git/tutorials/saving-changes)\n",
        "6. [Inspecting a repository](https://www.atlassian.com/git/tutorials/inspecting-a-repository)\n",
        "7. [Undoing changes](https://www.atlassian.com/git/tutorials/undoing-changes)\n",
        "8. [Rewriting history](https://www.atlassian.com/git/tutorials/rewriting-history)\n",
        "9. [Syncing](https://www.atlassian.com/git/tutorials/syncing)\n",
        "10. [Making a pull request](https://www.atlassian.com/git/tutorials/making-a-pull-request)\n",
        "11. [Using branches](https://www.atlassian.com/git/tutorials/using-branches)\n",
        "12. [Comparing workflows](https://www.atlassian.com/git/tutorials/comparing-workflows)\n",
        "\n",
        "I also have created two videos on the topic to help you understand some of these concepts: [Git basics](https://www.youtube.com/watch?v=fBCwfoBr2ng) and a [step-by-step tutorial](https://www.youtube.com/watch?v=nH7qJHx-h5s).\n",
        "\n",
        "For your answer, affirm that you *either* completed the tutorials above OR have previous experience with ALL of the concepts above. Confirm this by typing your name below and selecting the situation that applies from the two options in brackets."
      ]
    },
    {
      "cell_type": "markdown",
      "metadata": {
        "id": "BASw0yPhTZAE"
      },
      "source": [
        "**ANSWER**\n",
        "\n",
        "*I, [**your name here**], affirm that I have [**completed the above tutorial / I have previous experience that covers all the content in this tutorial**]*"
      ]
    },
    {
      "cell_type": "markdown",
      "metadata": {
        "id": "Ip7LwEpCTZAE"
      },
      "source": [
        "# Exploratory Data Analysis\n",
        "## 3\n",
        "**[50 points]** Here you'll bring together some of the individual skills that you demonstrated above and perform exploratory data analysis. Your goal is to explore the [datasets available](https://github.com/lucywowen/csci591_CCN/tree/main/projects) and identify questions or problems you're interested in working with.  Below, we walk through a process to follow for your analysis.\n",
        "\n",
        "1. Find 3 datasets that interest you.  I provide you with several opensource here [here](https://github.com/lucywowen/csci591_CCN/tree/main/projects), but feel free to look for others!  \n",
        "2. For each of the 3 datasets, describe the dataset, the source of the data, and the reason the dataset was of interest. What question are you hoping to answer through exploring the dataset?\n",
        "3. Check the data and see if they need to be cleaned: are there missing values? Are there clearly erroneous values? Do two tables need to be merged together? Clean the data so it can be visualized. If the data are clean, state how you know they are clean (what did you check?).\n",
        "3. Plot the data, demonstrating interesting features that you discover. Are there any relationships between variables that were surprising or patterns that emerged? Please exercise creativity and curiosity in your plots. You should have at least a ~3 plots exploring the data in different ways ... so at least 9 plots total.\n",
        "4. What insights are you able to take away from exploring the data? Is there a reason why analyzing the dataset you chose is particularly interesting or important? Summarize this for a general audience - boil down your findings in a way that is accessible, but still accurate.\n",
        "5. Define a clear question for each dataset that you would be interested in working on for the remainder of the semester.  Be prepared to pitch your project proposals to the class!\n"
      ]
    },
    {
      "cell_type": "markdown",
      "metadata": {
        "id": "l56U-8r9TZAE"
      },
      "source": [
        "**ANSWER**"
      ]
    }
  ],
  "metadata": {
    "kernelspec": {
      "display_name": "Python 3 (ipykernel)",
      "language": "python",
      "name": "python3"
    },
    "language_info": {
      "codemirror_mode": {
        "name": "ipython",
        "version": 3
      },
      "file_extension": ".py",
      "mimetype": "text/x-python",
      "name": "python",
      "nbconvert_exporter": "python",
      "pygments_lexer": "ipython3",
      "version": "3.11.5"
    },
    "nteract": {
      "version": "0.28.0"
    },
    "varInspector": {
      "cols": {
        "lenName": 16,
        "lenType": 16,
        "lenVar": 40
      },
      "kernels_config": {
        "python": {
          "delete_cmd_postfix": "",
          "delete_cmd_prefix": "del ",
          "library": "var_list.py",
          "varRefreshCmd": "print(var_dic_list())"
        },
        "r": {
          "delete_cmd_postfix": ") ",
          "delete_cmd_prefix": "rm(",
          "library": "var_list.r",
          "varRefreshCmd": "cat(var_dic_list()) "
        }
      },
      "position": {
        "height": "643px",
        "left": "1548px",
        "right": "20px",
        "top": "121px",
        "width": "350px"
      },
      "types_to_exclude": [
        "module",
        "function",
        "builtin_function_or_method",
        "instance",
        "_Feature"
      ],
      "window_display": true
    },
    "colab": {
      "provenance": [],
      "toc_visible": true,
      "include_colab_link": true
    }
  },
  "nbformat": 4,
  "nbformat_minor": 0
}